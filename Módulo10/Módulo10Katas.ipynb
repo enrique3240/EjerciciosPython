{
 "cells": [
  {
   "cell_type": "markdown",
   "metadata": {},
   "source": [
    "# Ejercicios\n",
    "### Manejo de Excepciones."
   ]
  },
  {
   "cell_type": "code",
   "execution_count": 13,
   "metadata": {},
   "outputs": [
    {
     "ename": "FileNotFoundError",
     "evalue": "[Errno 2] No such file or directory: 'C:/Users/Usuario/Desktop/Archivo.txt'",
     "output_type": "error",
     "traceback": [
      "\u001b[1;31m---------------------------------------------------------------------------\u001b[0m",
      "\u001b[1;31mFileNotFoundError\u001b[0m                         Traceback (most recent call last)",
      "\u001b[1;32mc:\\Users\\Enrique\\Desktop\\EjerciciosPython\\Módulo10\\Módulo10Katas.ipynb Cell 2'\u001b[0m in \u001b[0;36m<module>\u001b[1;34m\u001b[0m\n\u001b[1;32m----> <a href='vscode-notebook-cell:/c%3A/Users/Enrique/Desktop/EjerciciosPython/M%C3%B3dulo10/M%C3%B3dulo10Katas.ipynb#ch0000002?line=0'>1</a>\u001b[0m \u001b[39mopen\u001b[39;49m(\u001b[39m\"\u001b[39;49m\u001b[39mC:/Users/Usuario/Desktop/Archivo.txt\u001b[39;49m\u001b[39m\"\u001b[39;49m)\n",
      "\u001b[1;31mFileNotFoundError\u001b[0m: [Errno 2] No such file or directory: 'C:/Users/Usuario/Desktop/Archivo.txt'"
     ]
    }
   ],
   "source": [
    "open(\"C:/Users/Usuario/Desktop/Archivo.txt\")\n"
   ]
  },
  {
   "cell_type": "code",
   "execution_count": 14,
   "metadata": {},
   "outputs": [
    {
     "name": "stdout",
     "output_type": "stream",
     "text": [
      "Se encontró el archivo, pero no se pudo leer.\n"
     ]
    }
   ],
   "source": [
    "try:\n",
    "    open(\"C:/config.txt\")\n",
    "except FileNotFoundError:\n",
    "    print(\"No se encontró el archivo config.txt.\")\n",
    "except IsADirectoryError:\n",
    "    print(\"La ruta especificada es una carpeta.\")\n",
    "except (BlockingIOError, TimeoutError):\n",
    "    print(\"El sistema está bajo mucha carga de trabajo. Intente más tarde.\")\n",
    "except OSError as excep:\n",
    "    if excep.errno ==2:\n",
    "        print(\"No se pudo encontrar el archivo.\")\n",
    "    elif excep.errno == 13:\n",
    "        print(\"Se encontró el archivo, pero no se pudo leer.\")\n",
    "except Exception as err:\n",
    "    print(\"Ocurrió la Excepción\", err)\n",
    "\n",
    "\n"
   ]
  },
  {
   "cell_type": "markdown",
   "metadata": {},
   "source": [
    "# Ejercicio 2"
   ]
  },
  {
   "cell_type": "code",
   "execution_count": 21,
   "metadata": {},
   "outputs": [],
   "source": [
    "def agua_restante(num_astronautas, agua_restante, dias_restantes):\n",
    "    for argumento in [numero_astronautas, agua_restante, dias_restantes]:\n",
    "        try:\n",
    "            argumento / 10\n",
    "        except TypeError:\n",
    "            raise TypeError(f\"Todos los argumentos deben ser Int, pero se recibió: '{argumento}'\")\n",
    "\n",
    "    uso_diario=num_astronautas * 11\n",
    "    uso_total=uso_diario * dias_restantes\n",
    "    total_agua_restante=agua_restante - uso_total\n",
    "\n",
    "    if total_agua_restante<0:\n",
    "        raise RuntimeError(f\"¡No hay agua suficiente para {num_astronautas} astronautas en {dias_restantes} días :(!\")\n",
    "    return f\"El total de agua restante en {dias_restantes} días es de: {total_agua_restante} litros.\"\n",
    "\n",
    "\n",
    "#agua_restante(5,117,3)"
   ]
  },
  {
   "cell_type": "code",
   "execution_count": 22,
   "metadata": {},
   "outputs": [
    {
     "name": "stdout",
     "output_type": "stream",
     "text": [
      "Revise la cantidad de insumos.\n"
     ]
    }
   ],
   "source": [
    "numero_astronautas=input(\"Introduzca el número de astronautas:\")\n",
    "resto_agua = input(\"Introduzca la cantidad de litros de agua restante:\")\n",
    "resto_dias= input(\"Introduzca el número de días restantes:\")\n",
    "\n",
    "try:\n",
    "    agua_restante(numero_astronautas, resto_agua, resto_dias)\n",
    "except RuntimeError:\n",
    "    print(\"Revise la cantidad de insumos.\")"
   ]
  }
 ],
 "metadata": {
  "interpreter": {
   "hash": "b89b5cfaba6639976dc87ff2fec6d58faec662063367e2c229c520fe71072417"
  },
  "kernelspec": {
   "display_name": "Python 3.10.2 64-bit",
   "language": "python",
   "name": "python3"
  },
  "language_info": {
   "codemirror_mode": {
    "name": "ipython",
    "version": 3
   },
   "file_extension": ".py",
   "mimetype": "text/x-python",
   "name": "python",
   "nbconvert_exporter": "python",
   "pygments_lexer": "ipython3",
   "version": "3.10.2"
  },
  "orig_nbformat": 4
 },
 "nbformat": 4,
 "nbformat_minor": 2
}
