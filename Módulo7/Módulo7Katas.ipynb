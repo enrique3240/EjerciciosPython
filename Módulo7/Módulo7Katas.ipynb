{
 "cells": [
  {
   "cell_type": "markdown",
   "metadata": {},
   "source": [
    "# Ejercicio 1\n",
    "### Uso de estructuras de control\n"
   ]
  },
  {
   "cell_type": "code",
   "execution_count": 1,
   "metadata": {},
   "outputs": [
    {
     "name": "stdout",
     "output_type": "stream",
     "text": [
      "['Mercurio', 'Venus', 'Tierra', 'Marte', 'Júpiter', 'Saturno', 'Urano', 'Neptuno']\n"
     ]
    }
   ],
   "source": [
    "planetas=[]\n",
    "nuevo_planeta=\"\"\n",
    "\n",
    "while nuevo_planeta.lower() != \"done\":\n",
    "    nuevo_planeta=input(\"Introduzca el nombre de un planeta, si ha terminado escriba \\'done\\'\")\n",
    "    if nuevo_planeta != \"\" and nuevo_planeta != \"done\":\n",
    "        planetas.append(nuevo_planeta)\n",
    "#break\n",
    "print(planetas)"
   ]
  },
  {
   "cell_type": "markdown",
   "metadata": {},
   "source": [
    "# Ejercicio 2\n",
    "### Iteración de elementos en la lista e imprimir cada uno de ellos."
   ]
  },
  {
   "cell_type": "code",
   "execution_count": 2,
   "metadata": {},
   "outputs": [
    {
     "name": "stdout",
     "output_type": "stream",
     "text": [
      "Mercurio\n",
      "Venus\n",
      "Tierra\n",
      "Marte\n",
      "Júipiter\n",
      "Saturno\n",
      "Urano\n",
      "Neptuno\n"
     ]
    }
   ],
   "source": [
    "planetas=[]\n",
    "nuevo_planeta=\"\"\n",
    "\n",
    "while nuevo_planeta.lower() != \"done\":\n",
    "    nuevo_planeta=input(\"Introduzca el nombre de un planeta, si ha terminado escriba \\'done\\'\")\n",
    "    if nuevo_planeta != \"\" and nuevo_planeta.lower() != \"done\":\n",
    "        planetas.append(nuevo_planeta)\n",
    "\n",
    "for planeta in planetas:\n",
    "    print(planeta)"
   ]
  }
 ],
 "metadata": {
  "interpreter": {
   "hash": "b89b5cfaba6639976dc87ff2fec6d58faec662063367e2c229c520fe71072417"
  },
  "kernelspec": {
   "display_name": "Python 3.10.2 64-bit",
   "language": "python",
   "name": "python3"
  },
  "language_info": {
   "codemirror_mode": {
    "name": "ipython",
    "version": 3
   },
   "file_extension": ".py",
   "mimetype": "text/x-python",
   "name": "python",
   "nbconvert_exporter": "python",
   "pygments_lexer": "ipython3",
   "version": "3.10.2"
  },
  "orig_nbformat": 4
 },
 "nbformat": 4,
 "nbformat_minor": 2
}
