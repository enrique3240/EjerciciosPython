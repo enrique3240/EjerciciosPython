{
 "cells": [
  {
   "cell_type": "markdown",
   "metadata": {},
   "source": [
    "# Ejercicio 1\n",
    "### Dadas las distancias entre el sol y los planetas, calcular las distancias entre dichos planetas."
   ]
  },
  {
   "cell_type": "code",
   "execution_count": 1,
   "metadata": {},
   "outputs": [
    {
     "name": "stdout",
     "output_type": "stream",
     "text": [
      "La distancia entre la Tierra y Júpiter es de: 628949330 km.\n",
      "La distancia entre la Tierra y Júpiter es de: 390577533.93 millas.\n"
     ]
    }
   ],
   "source": [
    "#Distancias al sol de los planetas\n",
    "tierra = 149597870\n",
    "jupiter = 778547200\n",
    "distancia_km=jupiter - tierra\n",
    "distancia_millas = distancia_km * 0.621\n",
    "print(f\"La distancia entre la Tierra y Júpiter es de: {distancia_km} km.\")\n",
    "print(f\"La distancia entre la Tierra y Júpiter es de: {distancia_millas} millas.\")"
   ]
  },
  {
   "cell_type": "markdown",
   "metadata": {},
   "source": [
    "# Ejercicio 2\n",
    "### Solicitar al usuario que introduzca los datos de distancias de dos planetas y realizar el cálculo de distancia entre ellos."
   ]
  },
  {
   "cell_type": "code",
   "execution_count": 2,
   "metadata": {},
   "outputs": [
    {
     "name": "stdout",
     "output_type": "stream",
     "text": [
      "La distancia entre el primer y el segundo planeta en kilómetros es de: 628949330 km.\n",
      "La distancia entre el primer y el segundo planeta en millas es de: 390577533.93 millas.\n"
     ]
    }
   ],
   "source": [
    "planeta_uno=input(\"Introduzca el valor de la distancia al sol del primer planeta:\")\n",
    "planeta_dos=input(\"Introduzca el valor de la distancia al sol del segundo planeta:\")\n",
    "\n",
    "planeta_uno=int(planeta_uno)\n",
    "planeta_dos=int(planeta_dos)\n",
    "distancia_k = planeta_uno - planeta_dos\n",
    "distancia_k = abs(distancia_k)\n",
    "distancia_m=distancia_k * 0.621\n",
    "print(f\"La distancia entre el primer y el segundo planeta en kilómetros es de: {distancia_k} km.\")\n",
    "print(\"La distancia entre el primer y el segundo planeta en millas es de: \" + str(distancia_m) + \" millas.\")\n"
   ]
  }
 ],
 "metadata": {
  "interpreter": {
   "hash": "b89b5cfaba6639976dc87ff2fec6d58faec662063367e2c229c520fe71072417"
  },
  "kernelspec": {
   "display_name": "Python 3.10.2 64-bit",
   "language": "python",
   "name": "python3"
  },
  "language_info": {
   "codemirror_mode": {
    "name": "ipython",
    "version": 3
   },
   "file_extension": ".py",
   "mimetype": "text/x-python",
   "name": "python",
   "nbconvert_exporter": "python",
   "pygments_lexer": "ipython3",
   "version": "3.10.2"
  },
  "orig_nbformat": 4
 },
 "nbformat": 4,
 "nbformat_minor": 2
}
