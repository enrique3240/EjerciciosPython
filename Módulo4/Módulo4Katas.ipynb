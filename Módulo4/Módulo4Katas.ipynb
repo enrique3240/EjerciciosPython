{
 "cells": [
  {
   "cell_type": "markdown",
   "metadata": {},
   "source": [
    "# Ejercicio 1\n",
    "### División de textos"
   ]
  },
  {
   "cell_type": "code",
   "execution_count": 1,
   "metadata": {},
   "outputs": [
    {
     "name": "stdout",
     "output_type": "stream",
     "text": [
      "\n",
      "On average, the Moon moves 4cm away from the Earth every year\n",
      "The highest daylight temperature of the Moon is 127 C.\n",
      "\n",
      "On average, the Moon moves 4cm away from the Earth every year\n",
      "The highest daylight temperature of the Moon is 127 Celsius.\n"
     ]
    }
   ],
   "source": [
    "texto=\"\"\"Interesting facts about the Moon. The Moon is Earth's only satellite. There are several interesting facts about the Moon and how it affects life here on Earth. \n",
    "On average, the Moon moves 4cm away from the Earth every year. This yearly drift is not significant enough to cause immediate effects on Earth. The highest daylight temperature of the Moon is 127 C.\"\"\"\n",
    "#División del texto en oraciones\n",
    "oraciones=texto.split('. ')\n",
    "oraciones\n",
    "#Matriz de palabras clave\n",
    "palabras_clave=[\"average\", \"temperature\", \"distance\"]\n",
    "#Búsqueda de las palabras clave en cada oración\n",
    "for oracion in oraciones:\n",
    "    for palabra_clave in palabras_clave:\n",
    "        if palabra_clave in oracion:\n",
    "            print(oracion)\n",
    "            break\n",
    "\n",
    "#Reemplazo de palabras\n",
    "for oracion in oraciones:\n",
    "    for palabra_clave in palabras_clave:\n",
    "        if palabra_clave in oracion:\n",
    "            print(oracion.replace(' C', ' Celsius'))\n",
    "            break\n"
   ]
  },
  {
   "cell_type": "markdown",
   "metadata": {},
   "source": [
    "# Ejercicio 2\n",
    "### Formato de textos"
   ]
  },
  {
   "cell_type": "code",
   "execution_count": 2,
   "metadata": {},
   "outputs": [
    {
     "name": "stdout",
     "output_type": "stream",
     "text": [
      "Datos De La Gravedad Acerca De La Luna \n",
      "--------------------------------------------------------------------------- \n",
      "Nombre del planeta: Tierra \n",
      "Gravedad en la Luna: 1.6199999999999999 m/s2 \n",
      " \n",
      "\n",
      "Datos De La Gravedad Acerca De La Luna \n",
      "--------------------------------------------------------------------------- \n",
      "Nombre del planeta: Tierra \n",
      "Gravedad en la Luna: 1.6199999999999999 m/s2 \n",
      " \n",
      "\n",
      "Datos De La Gravedad Acerca De Ganímedes \n",
      "--------------------------------------------------------------------------- \n",
      "Nombre del planeta: Marte  \n",
      "Gravedad en Ganímedes: 1.4300000000000002 m/s2 \n",
      " \n",
      "\n"
     ]
    }
   ],
   "source": [
    "planeta = 'Tierra'\n",
    "gravedad  = 0.00162\n",
    "nombre = 'la Luna'\n",
    "#Cadena del título\n",
    "titulo=f'Datos de la gravedad acerca de {nombre}'\n",
    "#print(titulo)\n",
    "\n",
    "#Multicadena\n",
    "hechos = f\"\"\"{'-'*75} \n",
    "Nombre del planeta: {planeta} \n",
    "Gravedad en {nombre}: {gravedad * 1000} m/s2 \n",
    "\"\"\"\n",
    "#print(hechos)\n",
    "\n",
    "#Integración de cadenas\n",
    "plantilla = f\"\"\"{titulo.title()} \n",
    "{hechos} \n",
    "\"\"\" \n",
    "print(plantilla)\n",
    "\n",
    "#Cambio de datos\n",
    "planeta = 'Marte '\n",
    "gravedad  = 0.00143\n",
    "nombre = 'Ganímedes'\n",
    "#print(\"Cambio de plantillas\")\n",
    "print(plantilla)\n",
    "\n",
    "#Repetición de plantilla para actualizar la info\n",
    "#Cadena del título\n",
    "titulo=f'Datos de la gravedad acerca de {nombre}'\n",
    "#Multicadena\n",
    "datos = f\"\"\"{'-'*75} \n",
    "Nombre del planeta: {planeta} \n",
    "Gravedad en {nombre}: {gravedad * 1000} m/s2 \n",
    "\"\"\"\n",
    "\n",
    "nueva_plantilla = f\"\"\"{titulo.title()} \n",
    "{datos} \n",
    "\"\"\" \n",
    "print(nueva_plantilla.format(nombre=nombre, planeta=planeta, gravedad=gravedad))\n"
   ]
  }
 ],
 "metadata": {
  "interpreter": {
   "hash": "b89b5cfaba6639976dc87ff2fec6d58faec662063367e2c229c520fe71072417"
  },
  "kernelspec": {
   "display_name": "Python 3.10.2 64-bit",
   "language": "python",
   "name": "python3"
  },
  "language_info": {
   "codemirror_mode": {
    "name": "ipython",
    "version": 3
   },
   "file_extension": ".py",
   "mimetype": "text/x-python",
   "name": "python",
   "nbconvert_exporter": "python",
   "pygments_lexer": "ipython3",
   "version": "3.10.2"
  },
  "orig_nbformat": 4
 },
 "nbformat": 4,
 "nbformat_minor": 2
}
