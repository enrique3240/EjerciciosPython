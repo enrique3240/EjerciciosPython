{
 "cells": [
  {
   "cell_type": "markdown",
   "metadata": {},
   "source": [
    "# Ejercicio 1\n",
    "### Creación y uso de funciones."
   ]
  },
  {
   "cell_type": "code",
   "execution_count": 44,
   "metadata": {},
   "outputs": [
    {
     "name": "stdout",
     "output_type": "stream",
     "text": [
      "Reporte de combustible:\n",
      "    ---------------------------------------------------------------------------\n",
      "    Promedio: 71.66666666666667%\n",
      "    Tanque 1: 46%\n",
      "    Tanque 2: 78%\n",
      "    Tanque 3: 91%\n",
      "    \n"
     ]
    }
   ],
   "source": [
    "primer_tanque = input(\"Introduzca el valor del primer tanque:\")\n",
    "segundo_tanque = input(\"Introduzca el valor del segundo tanque:\")\n",
    "tercer_tanque = input(\"Introduzca el valor del tercer tanque:\")\n",
    "prom = reporte(primer_tanque, segundo_tanque, tercer_tanque)\n",
    "print(prom)\n"
   ]
  },
  {
   "cell_type": "code",
   "execution_count": 45,
   "metadata": {},
   "outputs": [],
   "source": [
    "def reporte(argprimer_tanque, argsegundo_tanque, argtercer_tanque):\n",
    "    rep = f\"\"\"\n",
    "    Reporte de combustible:\n",
    "    {'-'*75}\n",
    "    Promedio: {promedio(argprimer_tanque, argsegundo_tanque, argtercer_tanque)}%\n",
    "    Tanque 1: {argprimer_tanque}%\n",
    "    Tanque 2: {argsegundo_tanque}%\n",
    "    Tanque 3: {argtercer_tanque}%\n",
    "    \"\"\"\n",
    "\n",
    "    return rep\n"
   ]
  },
  {
   "cell_type": "code",
   "execution_count": 46,
   "metadata": {},
   "outputs": [],
   "source": [
    "def promedio(argtanque_uno, argtanque_dos, argtanque_tres):\n",
    "    prom = (int(argtanque_uno) + int(argtanque_dos) + int(argtanque_tres)) / 3\n",
    "    return prom\n"
   ]
  },
  {
   "cell_type": "markdown",
   "metadata": {},
   "source": [
    "# Ejercicio 2\n",
    "### Uso de argumentos con palabras clave en función."
   ]
  },
  {
   "cell_type": "code",
   "execution_count": 47,
   "metadata": {},
   "outputs": [
    {
     "name": "stdout",
     "output_type": "stream",
     "text": [
      "\n",
      "    Informe de la misión:\n",
      "    ---------------------------------------------------------------------------\n",
      "    Misión con destino a: Luna\n",
      "    Tiempo total de la misión: 65 minutos\n",
      "    Combustible restante: 100000 litros\n",
      "    \n"
     ]
    }
   ],
   "source": [
    "def informe_mision(hora_prelanzamiento, tiempo_vuelo, destino, tanque_interno, tanque_externo):\n",
    "    informe = f\"\"\"\n",
    "    Informe de la misión:\n",
    "    {'-'*75}\n",
    "    Misión con destino a: {destino}\n",
    "    Tiempo total de la misión: {hora_prelanzamiento + tiempo_vuelo} minutos\n",
    "    Combustible restante: {tanque_externo - tanque_interno} litros\n",
    "    \"\"\"\n",
    "    return informe\n",
    "\n",
    "\n",
    "print(informe_mision(14, 51, \"Luna\", 200000, 300000))\n"
   ]
  },
  {
   "cell_type": "code",
   "execution_count": 48,
   "metadata": {},
   "outputs": [
    {
     "name": "stdout",
     "output_type": "stream",
     "text": [
      "\n",
      "    Misión a la Luna\n",
      "    ---------------------------------------------------------------------------\n",
      "    Tiempo total de vuelo: 94 minutos.\n",
      "    Total de combustible restante: 574752.\n",
      "    \n"
     ]
    }
   ],
   "source": [
    "def reporte_mision(destino, *minutos, **reserva_combustible):\n",
    "    reporte=f\"\"\"\n",
    "    Misión a {destino}\n",
    "    {'-'*75}\n",
    "    Tiempo total de vuelo: {sum(minutos)} minutos.\n",
    "    Total de combustible restante: {sum(reserva_combustible.values())}.\n",
    "    \"\"\"\n",
    "    return reporte\n",
    "print(reporte_mision(\"la Luna\", 18,45,31, principal=370000, externo=204752))\n"
   ]
  },
  {
   "cell_type": "code",
   "execution_count": 49,
   "metadata": {},
   "outputs": [
    {
     "name": "stdout",
     "output_type": "stream",
     "text": [
      "\n",
      "    Misión a la Luna\n",
      "    ---------------------------------------------------------------------------\n",
      "    Tiempo total de vuelo: 94 minutos.\n",
      "    Total de combustible restante: 505276.\n",
      "    Tanque principal: 300524 litros restantes.\n",
      "Tanque externo: 204752 litros restantes.\n",
      "\n"
     ]
    }
   ],
   "source": [
    "def reporte_mision(destino, *minutos, **reserva_combustible):\n",
    "    reporte=f\"\"\"\n",
    "    Misión a {destino}\n",
    "    {'-'*75}\n",
    "    Tiempo total de vuelo: {sum(minutos)} minutos.\n",
    "    Total de combustible restante: {sum(reserva_combustible.values())}.\n",
    "    \"\"\"\n",
    "    for nombre, litros in reserva_combustible.items():\n",
    "        reporte += f\"Tanque {nombre}: {litros} litros restantes.\\n\"\n",
    "    return reporte\n",
    "print(reporte_mision(\"la Luna\", 18,45,31, principal=300524, externo=204752))"
   ]
  }
 ],
 "metadata": {
  "interpreter": {
   "hash": "b89b5cfaba6639976dc87ff2fec6d58faec662063367e2c229c520fe71072417"
  },
  "kernelspec": {
   "display_name": "Python 3.10.2 64-bit",
   "language": "python",
   "name": "python3"
  },
  "language_info": {
   "codemirror_mode": {
    "name": "ipython",
    "version": 3
   },
   "file_extension": ".py",
   "mimetype": "text/x-python",
   "name": "python",
   "nbconvert_exporter": "python",
   "pygments_lexer": "ipython3",
   "version": "3.10.2"
  },
  "orig_nbformat": 4
 },
 "nbformat": 4,
 "nbformat_minor": 2
}
