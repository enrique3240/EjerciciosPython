{
 "cells": [
  {
   "cell_type": "markdown",
   "metadata": {},
   "source": [
    "# Ejercicio 1\n",
    "# Creación de diccionarios.\n"
   ]
  },
  {
   "cell_type": "code",
   "execution_count": 16,
   "metadata": {},
   "outputs": [
    {
     "name": "stdout",
     "output_type": "stream",
     "text": [
      "El planeta Marte tiene 2 satélites naturales.\n",
      "{'nombre': 'Marte', 'lunas': 2, 'circunferencia': {'polar': 6752, 'ecuatorial': 6792}}\n",
      "Marte has a polar circumference of 6752\n",
      "El planeta Marte tiene 6752 km de circunferencia polar.\n"
     ]
    }
   ],
   "source": [
    "planeta = {\n",
    "    'nombre': 'Marte',\n",
    "    'lunas': 2\n",
    "}\n",
    "print(f\"El planeta {planeta.get('nombre')} tiene {planeta.get('lunas')} satélites naturales.\")\n",
    "#planeta.update({'polar': 6752, 'ecuatorial': 6792})\n",
    "planeta[\"circunferencia\"] = {\n",
    "    'polar': 6752,\n",
    "    'ecuatorial': 6792\n",
    "}\n",
    "print(planeta)\n",
    "print(f\"El planeta {planeta['nombre']} tiene {planeta['circunferencia']['polar']} km de circunferencia polar.\")\n"
   ]
  },
  {
   "cell_type": "markdown",
   "metadata": {},
   "source": [
    "# Ejercicio 2\n",
    "### Programación dinámica con diccionarios."
   ]
  },
  {
   "cell_type": "code",
   "execution_count": 26,
   "metadata": {},
   "outputs": [
    {
     "name": "stdout",
     "output_type": "stream",
     "text": [
      "Hay 214 lunas.\n",
      "Hay un promedio de 17.833333333333332 satélites naturales por planeta.\n"
     ]
    }
   ],
   "source": [
    "lunas_planetas = {\n",
    "    'Mercurio': 0,\n",
    "    'Venus': 0,\n",
    "    'Tierra': 1,\n",
    "    'Marte': 2,\n",
    "    'Júpiter': 79,\n",
    "    'Saturno': 82,\n",
    "    'Urano': 27,\n",
    "    'Neptuno': 14,\n",
    "    'Plutón': 5,\n",
    "    'Haumea': 2,\n",
    "    'Makemake': 1,\n",
    "    'Eris': 1\n",
    "}\n",
    "lunas = lunas_planetas.values()\n",
    "planetas = len(lunas_planetas.values())\n",
    "\n",
    "numero_lunas = 0\n",
    "for luna in lunas:\n",
    "    numero_lunas = numero_lunas + luna\n",
    "\n",
    "print(f\"Hay {numero_lunas} lunas.\")\n",
    "promedio_lunas=numero_lunas/planetas\n",
    "print(f\"Hay un promedio de {promedio_lunas} satélites naturales por planeta.\")\n"
   ]
  }
 ],
 "metadata": {
  "interpreter": {
   "hash": "b89b5cfaba6639976dc87ff2fec6d58faec662063367e2c229c520fe71072417"
  },
  "kernelspec": {
   "display_name": "Python 3.10.2 64-bit",
   "language": "python",
   "name": "python3"
  },
  "language_info": {
   "codemirror_mode": {
    "name": "ipython",
    "version": 3
   },
   "file_extension": ".py",
   "mimetype": "text/x-python",
   "name": "python",
   "nbconvert_exporter": "python",
   "pygments_lexer": "ipython3",
   "version": "3.10.2"
  },
  "orig_nbformat": 4
 },
 "nbformat": 4,
 "nbformat_minor": 2
}
