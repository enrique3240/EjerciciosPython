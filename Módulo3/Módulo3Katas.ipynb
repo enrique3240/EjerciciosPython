{
 "cells": [
  {
   "cell_type": "code",
   "execution_count": 1,
   "metadata": {},
   "outputs": [
    {
     "name": "stdout",
     "output_type": "stream",
     "text": [
      "La velocidad del asteroide supera los 25 km/s\n"
     ]
    }
   ],
   "source": [
    "vel_asteroide = 49\n",
    "\n",
    "if vel_asteroide > 25:\n",
    "    print(\"Advertencia: ¡La velocidad del asteroide supera los 25 km/s!\")\n",
    "else:\n",
    "    print(\"La velocidad del asteroide no representa peligro.\")\n"
   ]
  },
  {
   "cell_type": "code",
   "execution_count": 3,
   "metadata": {},
   "outputs": [
    {
     "name": "stdout",
     "output_type": "stream",
     "text": [
      "No se podrá observar el rayo de luz :(\n"
     ]
    }
   ],
   "source": [
    "vel_asteroide = 19\n",
    "if vel_asteroide > 20:\n",
    "    print(\"Observa al cielo, se podrá ver un rayo de luz\")\n",
    "elif vel_asteroide == 20:\n",
    "    print(\"Observa al cielo, se podrá ver un rayo de luz\")\n",
    "else:\n",
    "    print(\"No se podrá observar el rayo de luz :(\")"
   ]
  },
  {
   "cell_type": "code",
   "execution_count": 8,
   "metadata": {},
   "outputs": [
    {
     "name": "stdout",
     "output_type": "stream",
     "text": [
      "No hay nada relevante\n"
     ]
    }
   ],
   "source": [
    "velocidad_asteroide = 12\n",
    "tamano_asteroide = 2\n",
    "\n",
    "if velocidad_asteroide > 25 and tamano_asteroide > 25:\n",
    "    print(\"¡Alerta, se acerca un asteroide muy peligroso!\")\n",
    "elif tamano_asteroide>25:\n",
    "    print(\"¡Un asteroide grande se acerca a la Tierra!\")\n",
    "elif velocidad_asteroide >= 20:\n",
    "    print(\"Observa al cielo, se verá un rayo luminoso\")\n",
    "elif tamano_asteroide < 25:\n",
    "    print(\"No hay nada relevante\")\n",
    "else:\n",
    "    print(\"Sin peligro :)\")\n"
   ]
  }
 ],
 "metadata": {
  "interpreter": {
   "hash": "b89b5cfaba6639976dc87ff2fec6d58faec662063367e2c229c520fe71072417"
  },
  "kernelspec": {
   "display_name": "Python 3.10.2 64-bit",
   "language": "python",
   "name": "python3"
  },
  "language_info": {
   "codemirror_mode": {
    "name": "ipython",
    "version": 3
   },
   "file_extension": ".py",
   "mimetype": "text/x-python",
   "name": "python",
   "nbconvert_exporter": "python",
   "pygments_lexer": "ipython3",
   "version": "3.10.2"
  },
  "orig_nbformat": 4
 },
 "nbformat": 4,
 "nbformat_minor": 2
}
